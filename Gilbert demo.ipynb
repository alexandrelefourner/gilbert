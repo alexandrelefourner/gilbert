{
 "cells": [
  {
   "cell_type": "code",
   "execution_count": 1,
   "metadata": {
    "scrolled": false
   },
   "outputs": [],
   "source": [
    "import numpy as np\n",
    "from gilbert2d import numpy_gilbert2d\n",
    "from gilbert.gilbert3d import numpy_gilbert3d"
   ]
  },
  {
   "cell_type": "code",
   "execution_count": 2,
   "metadata": {},
   "outputs": [
    {
     "name": "stdout",
     "output_type": "stream",
     "text": [
      "[[[ 0  1  2]\n",
      "  [ 3  4  5]\n",
      "  [ 6  7  8]\n",
      "  [ 9 10 11]]\n",
      "\n",
      " [[12 13 14]\n",
      "  [15 16 17]\n",
      "  [18 19 20]\n",
      "  [21 22 23]]\n",
      "\n",
      " [[24 25 26]\n",
      "  [27 28 29]\n",
      "  [30 31 32]\n",
      "  [33 34 35]]\n",
      "\n",
      " [[36 37 38]\n",
      "  [39 40 41]\n",
      "  [42 43 44]\n",
      "  [45 46 47]]]\n",
      "[ 0  1 13 12 15 16  4  3  6  7 18 19 22 21  9 10 11 44 43 32 30 33 34 47\n",
      " 46 45 39 40 28 27 24 25 37 36]\n"
     ]
    }
   ],
   "source": [
    "size = 4\n",
    "depth = 3\n",
    "indexes = numpy_gilbert3d(size,size,depth)\n",
    "\n",
    "X = np.arange(size*size*depth).reshape((size,size,depth))\n",
    "k = X[indexes[:,0], indexes[:,1], indexes[:,2]]\n",
    "\n",
    "print(X)\n",
    "print(k)"
   ]
  },
  {
   "cell_type": "code",
   "execution_count": 3,
   "metadata": {},
   "outputs": [
    {
     "name": "stdout",
     "output_type": "stream",
     "text": [
      "[[ 0  1  2  3]\n",
      " [ 4  5  6  7]\n",
      " [ 8  9 10 11]\n",
      " [12 13 14 15]]\n",
      "[ 0  4  5  1  2  3  7  6 10 11 15 14 13  9  8 12]\n"
     ]
    }
   ],
   "source": [
    "indexes_2d = numpy_gilbert2d(size,size)\n",
    "\n",
    "X2D = np.arange(size*size).reshape((size,size))\n",
    "k = X2D[indexes_2d[:,0], indexes_2d[:,1]]\n",
    "\n",
    "print(X2D)\n",
    "print(k)"
   ]
  }
 ],
 "metadata": {
  "kernelspec": {
   "display_name": "Python 3",
   "language": "python",
   "name": "python3"
  },
  "language_info": {
   "codemirror_mode": {
    "name": "ipython",
    "version": 3
   },
   "file_extension": ".py",
   "mimetype": "text/x-python",
   "name": "python",
   "nbconvert_exporter": "python",
   "pygments_lexer": "ipython3",
   "version": "3.7.7"
  }
 },
 "nbformat": 4,
 "nbformat_minor": 4
}
